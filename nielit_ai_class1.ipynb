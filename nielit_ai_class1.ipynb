{
  "nbformat": 4,
  "nbformat_minor": 0,
  "metadata": {
    "colab": {
      "name": "nielit_ai_class1.ipynb",
      "provenance": [],
      "include_colab_link": true
    },
    "kernelspec": {
      "name": "python3",
      "display_name": "Python 3"
    }
  },
  "cells": [
    {
      "cell_type": "markdown",
      "metadata": {
        "id": "view-in-github",
        "colab_type": "text"
      },
      "source": [
        "<a href=\"https://colab.research.google.com/github/Yuvansh1/AI_with_Python_Course_NLP/blob/main/nielit_ai_class1.ipynb\" target=\"_parent\"><img src=\"https://colab.research.google.com/assets/colab-badge.svg\" alt=\"Open In Colab\"/></a>"
      ]
    },
    {
      "cell_type": "code",
      "metadata": {
        "id": "hIdUC3q0VN-1",
        "outputId": "6ba8ab39-926c-412b-b3b3-abce8d59ba1a",
        "colab": {
          "base_uri": "https://localhost:8080/",
          "height": 34
        }
      },
      "source": [
        "print(\"NIELIT Patna\")"
      ],
      "execution_count": null,
      "outputs": [
        {
          "output_type": "stream",
          "text": [
            "NIELIT Patna\n"
          ],
          "name": "stdout"
        }
      ]
    },
    {
      "cell_type": "code",
      "metadata": {
        "id": "iw1eHZ-lWBpR"
      },
      "source": [
        "institute=\"Nielit Patna\""
      ],
      "execution_count": null,
      "outputs": []
    },
    {
      "cell_type": "code",
      "metadata": {
        "id": "cBXS70yEWHm3",
        "outputId": "899aadc1-817b-4a2f-f636-d1fb7e918736",
        "colab": {
          "base_uri": "https://localhost:8080/",
          "height": 34
        }
      },
      "source": [
        "print(\"The Institute name is \",institute)"
      ],
      "execution_count": null,
      "outputs": [
        {
          "output_type": "stream",
          "text": [
            "The Institute name is  Nielit Patna\n"
          ],
          "name": "stdout"
        }
      ]
    },
    {
      "cell_type": "code",
      "metadata": {
        "id": "Y0Oe0TOUWPFz",
        "outputId": "a8deb9f5-b1d2-4ddb-dfb9-3816cb46a63e",
        "colab": {
          "base_uri": "https://localhost:8080/",
          "height": 34
        }
      },
      "source": [
        "print(\"The Institute name is {}\".format(institute))"
      ],
      "execution_count": null,
      "outputs": [
        {
          "output_type": "stream",
          "text": [
            "The Institute name is Nielit Patna\n"
          ],
          "name": "stdout"
        }
      ]
    },
    {
      "cell_type": "code",
      "metadata": {
        "id": "lXziuJ2uWhOR",
        "outputId": "387605dd-af04-4412-a93d-615b55cc9e58",
        "colab": {
          "base_uri": "https://localhost:8080/",
          "height": 34
        }
      },
      "source": [
        "print(f\"The Institute name is {institute}\")"
      ],
      "execution_count": null,
      "outputs": [
        {
          "output_type": "stream",
          "text": [
            "The Institute name is Nielit Patna\n"
          ],
          "name": "stdout"
        }
      ]
    },
    {
      "cell_type": "code",
      "metadata": {
        "id": "YM7l-hu7WpVs"
      },
      "source": [
        "list=[\"India\",\"Aus\",\"Eng\",\"France\"]"
      ],
      "execution_count": null,
      "outputs": []
    },
    {
      "cell_type": "code",
      "metadata": {
        "id": "FUxmT61MW8_Q",
        "outputId": "8df35edb-46e1-42ac-81a5-8c363076e722",
        "colab": {
          "base_uri": "https://localhost:8080/",
          "height": 34
        }
      },
      "source": [
        "print(f\"The Country name is {list[3]}\")"
      ],
      "execution_count": null,
      "outputs": [
        {
          "output_type": "stream",
          "text": [
            "The Country name is France\n"
          ],
          "name": "stdout"
        }
      ]
    },
    {
      "cell_type": "code",
      "metadata": {
        "id": "Gru8rzO1XE_J",
        "outputId": "db1576c2-d5f1-4197-f8f7-388ad391f00c",
        "colab": {
          "base_uri": "https://localhost:8080/",
          "height": 34
        }
      },
      "source": [
        "def sum(var1, var2):\n",
        "  var3=var1+var2\n",
        "  return var3\n",
        "sum(12,55)"
      ],
      "execution_count": null,
      "outputs": [
        {
          "output_type": "execute_result",
          "data": {
            "text/plain": [
              "67"
            ]
          },
          "metadata": {
            "tags": []
          },
          "execution_count": 12
        }
      ]
    },
    {
      "cell_type": "code",
      "metadata": {
        "id": "JpgUlU7OXSiA",
        "outputId": "5a01dbf0-89e1-422e-c179-c06c354590d0",
        "colab": {
          "base_uri": "https://localhost:8080/",
          "height": 34
        }
      },
      "source": [
        "def max(var1 ,var2):\n",
        "  max=0\n",
        "  if (var1>=var2):\n",
        "    max=var1\n",
        "  else:\n",
        "    max=var2\n",
        "  return max\n",
        "max(72,55)"
      ],
      "execution_count": null,
      "outputs": [
        {
          "output_type": "execute_result",
          "data": {
            "text/plain": [
              "72"
            ]
          },
          "metadata": {
            "tags": []
          },
          "execution_count": 14
        }
      ]
    },
    {
      "cell_type": "code",
      "metadata": {
        "id": "w2zuDysPYBQZ",
        "outputId": "d2f12488-3629-4403-a7f1-2b65848b70ad",
        "colab": {
          "base_uri": "https://localhost:8080/",
          "height": 34
        }
      },
      "source": [
        "%%writefile test.txt\n",
        "India is great"
      ],
      "execution_count": null,
      "outputs": [
        {
          "output_type": "stream",
          "text": [
            "Writing test.txt\n"
          ],
          "name": "stdout"
        }
      ]
    },
    {
      "cell_type": "code",
      "metadata": {
        "id": "p-VLwKyNYSRb",
        "outputId": "43c1475c-7f0b-472b-9666-199fe764fe0e",
        "colab": {
          "base_uri": "https://localhost:8080/",
          "height": 34
        }
      },
      "source": [
        "ls\n"
      ],
      "execution_count": null,
      "outputs": [
        {
          "output_type": "stream",
          "text": [
            "\u001b[0m\u001b[01;34msample_data\u001b[0m/  test.txt\n"
          ],
          "name": "stdout"
        }
      ]
    },
    {
      "cell_type": "code",
      "metadata": {
        "id": "1RntUPiSYT2L"
      },
      "source": [
        "file=open(\"test.txt\")"
      ],
      "execution_count": null,
      "outputs": []
    },
    {
      "cell_type": "code",
      "metadata": {
        "id": "1s-xaVUgYa7C",
        "outputId": "7e0d2a80-1c81-46e8-ad57-622543022614",
        "colab": {
          "base_uri": "https://localhost:8080/",
          "height": 34
        }
      },
      "source": [
        "file\n"
      ],
      "execution_count": null,
      "outputs": [
        {
          "output_type": "execute_result",
          "data": {
            "text/plain": [
              "<_io.TextIOWrapper name='test.txt' mode='r' encoding='UTF-8'>"
            ]
          },
          "metadata": {
            "tags": []
          },
          "execution_count": 18
        }
      ]
    },
    {
      "cell_type": "code",
      "metadata": {
        "id": "JLO03OSjYdaF",
        "outputId": "c456b5b6-3a2e-4217-eeee-619305fb7f67",
        "colab": {
          "base_uri": "https://localhost:8080/",
          "height": 35
        }
      },
      "source": [
        "file.read()"
      ],
      "execution_count": null,
      "outputs": [
        {
          "output_type": "execute_result",
          "data": {
            "application/vnd.google.colaboratory.intrinsic+json": {
              "type": "string"
            },
            "text/plain": [
              "'India is great'"
            ]
          },
          "metadata": {
            "tags": []
          },
          "execution_count": 19
        }
      ]
    },
    {
      "cell_type": "code",
      "metadata": {
        "id": "7Y5dRlFbYo3R",
        "outputId": "1e2fb4cd-0cc5-493d-8ea6-248b1b30b415",
        "colab": {
          "base_uri": "https://localhost:8080/",
          "height": 35
        }
      },
      "source": [
        "file.read()"
      ],
      "execution_count": null,
      "outputs": [
        {
          "output_type": "execute_result",
          "data": {
            "application/vnd.google.colaboratory.intrinsic+json": {
              "type": "string"
            },
            "text/plain": [
              "''"
            ]
          },
          "metadata": {
            "tags": []
          },
          "execution_count": 20
        }
      ]
    },
    {
      "cell_type": "code",
      "metadata": {
        "id": "J0_1k7EnYrg7",
        "outputId": "09dca91c-7e34-42a8-f48f-70b3d3e85ab8",
        "colab": {
          "base_uri": "https://localhost:8080/",
          "height": 34
        }
      },
      "source": [
        "file.seek(0)"
      ],
      "execution_count": null,
      "outputs": [
        {
          "output_type": "execute_result",
          "data": {
            "text/plain": [
              "0"
            ]
          },
          "metadata": {
            "tags": []
          },
          "execution_count": 21
        }
      ]
    },
    {
      "cell_type": "code",
      "metadata": {
        "id": "fr-JuemDY_dU",
        "outputId": "7804bf1f-4b93-4902-edb3-0660eced25dd",
        "colab": {
          "base_uri": "https://localhost:8080/",
          "height": 35
        }
      },
      "source": [
        "file.read()"
      ],
      "execution_count": null,
      "outputs": [
        {
          "output_type": "execute_result",
          "data": {
            "application/vnd.google.colaboratory.intrinsic+json": {
              "type": "string"
            },
            "text/plain": [
              "'India is great'"
            ]
          },
          "metadata": {
            "tags": []
          },
          "execution_count": 22
        }
      ]
    },
    {
      "cell_type": "code",
      "metadata": {
        "id": "Ms0pKFxCZBVz"
      },
      "source": [
        "file.close()"
      ],
      "execution_count": null,
      "outputs": []
    },
    {
      "cell_type": "code",
      "metadata": {
        "id": "dxq7UIlZZF4E"
      },
      "source": [
        "doc=\"My mobile number is 999-777-6765 and 888-989-1234\""
      ],
      "execution_count": null,
      "outputs": []
    },
    {
      "cell_type": "code",
      "metadata": {
        "id": "CLQRiT9LZlkT"
      },
      "source": [
        "import re"
      ],
      "execution_count": null,
      "outputs": []
    },
    {
      "cell_type": "code",
      "metadata": {
        "id": "1rc_a8VKZprL"
      },
      "source": [
        "patt=r'\\w{3}-\\w{3}-\\w{4}'"
      ],
      "execution_count": null,
      "outputs": []
    },
    {
      "cell_type": "code",
      "metadata": {
        "id": "8ti63hTYZ7qA"
      },
      "source": [
        "match=re.findall(patt,doc)"
      ],
      "execution_count": null,
      "outputs": []
    },
    {
      "cell_type": "code",
      "metadata": {
        "id": "Wo5H3Hh5aBMi",
        "outputId": "05b08dec-2402-41aa-ad1f-4682d7d73d08",
        "colab": {
          "base_uri": "https://localhost:8080/",
          "height": 34
        }
      },
      "source": [
        "match"
      ],
      "execution_count": null,
      "outputs": [
        {
          "output_type": "execute_result",
          "data": {
            "text/plain": [
              "['999-777-6765', '888-989-1234']"
            ]
          },
          "metadata": {
            "tags": []
          },
          "execution_count": 32
        }
      ]
    },
    {
      "cell_type": "code",
      "metadata": {
        "id": "ZvAoB3FPaCry",
        "outputId": "d822c45b-28ef-476f-e82b-5329c9ff9480",
        "colab": {
          "base_uri": "https://localhost:8080/",
          "height": 52
        }
      },
      "source": [
        "for m in match:\n",
        "  print(m)"
      ],
      "execution_count": null,
      "outputs": [
        {
          "output_type": "stream",
          "text": [
            "999-777-6765\n",
            "888-989-1234\n"
          ],
          "name": "stdout"
        }
      ]
    },
    {
      "cell_type": "code",
      "metadata": {
        "id": "QO15FCfraKQs"
      },
      "source": [
        "def palindrom(num):\n",
        "  temp=num\n",
        "  rev_sum=0\n",
        "  while(temp>0):\n",
        "    digit=temp%10\n",
        "    rev_sum+=rev_sum*10+digit\n",
        "    temp//=10\n",
        "  if ( rev_sum==num ):\n",
        "    print(\"This is palindrom number\")\n",
        "  else:\n",
        "    print(\"This is not palindrom number\")"
      ],
      "execution_count": null,
      "outputs": []
    },
    {
      "cell_type": "code",
      "metadata": {
        "id": "LymhYvlAbrhk",
        "outputId": "08532af9-fe61-427b-dbae-f3039a82cecc",
        "colab": {
          "base_uri": "https://localhost:8080/",
          "height": 34
        }
      },
      "source": [
        "palindrom(1221)"
      ],
      "execution_count": null,
      "outputs": [
        {
          "output_type": "stream",
          "text": [
            "This is not palindrom number\n"
          ],
          "name": "stdout"
        }
      ]
    },
    {
      "cell_type": "code",
      "metadata": {
        "id": "MXdhg9jcbtny",
        "outputId": "5dd81102-eb38-4425-deaf-a2a092839199",
        "colab": {
          "base_uri": "https://localhost:8080/",
          "height": 34
        }
      },
      "source": [
        "ls\n"
      ],
      "execution_count": null,
      "outputs": [
        {
          "output_type": "stream",
          "text": [
            "\u001b[0m\u001b[01;34msample_data\u001b[0m/  test.txt\n"
          ],
          "name": "stdout"
        }
      ]
    },
    {
      "cell_type": "code",
      "metadata": {
        "id": "L8QBgJ5mdS47"
      },
      "source": [
        "from google.colab import files"
      ],
      "execution_count": null,
      "outputs": []
    },
    {
      "cell_type": "code",
      "metadata": {
        "id": "IwsLby_DdasC",
        "outputId": "c6f2caa5-19ee-4cf9-e00f-912f35aad935",
        "colab": {
          "base_uri": "https://localhost:8080/",
          "height": 211
        }
      },
      "source": [
        "!pip install PyPDF2"
      ],
      "execution_count": null,
      "outputs": [
        {
          "output_type": "stream",
          "text": [
            "Collecting PyPDF2\n",
            "\u001b[?25l  Downloading https://files.pythonhosted.org/packages/b4/01/68fcc0d43daf4c6bdbc6b33cc3f77bda531c86b174cac56ef0ffdb96faab/PyPDF2-1.26.0.tar.gz (77kB)\n",
            "\r\u001b[K     |████▎                           | 10kB 10.2MB/s eta 0:00:01\r\u001b[K     |████████▌                       | 20kB 1.7MB/s eta 0:00:01\r\u001b[K     |████████████▊                   | 30kB 2.2MB/s eta 0:00:01\r\u001b[K     |█████████████████               | 40kB 2.5MB/s eta 0:00:01\r\u001b[K     |█████████████████████▏          | 51kB 2.0MB/s eta 0:00:01\r\u001b[K     |█████████████████████████▍      | 61kB 2.3MB/s eta 0:00:01\r\u001b[K     |█████████████████████████████▋  | 71kB 2.5MB/s eta 0:00:01\r\u001b[K     |████████████████████████████████| 81kB 2.2MB/s \n",
            "\u001b[?25hBuilding wheels for collected packages: PyPDF2\n",
            "  Building wheel for PyPDF2 (setup.py) ... \u001b[?25l\u001b[?25hdone\n",
            "  Created wheel for PyPDF2: filename=PyPDF2-1.26.0-cp36-none-any.whl size=61086 sha256=cb7840c8fda7a91b8d3ecfc55fc239fd9f3aa706c02b03298fa372e53c993ecf\n",
            "  Stored in directory: /root/.cache/pip/wheels/53/84/19/35bc977c8bf5f0c23a8a011aa958acd4da4bbd7a229315c1b7\n",
            "Successfully built PyPDF2\n",
            "Installing collected packages: PyPDF2\n",
            "Successfully installed PyPDF2-1.26.0\n"
          ],
          "name": "stdout"
        }
      ]
    },
    {
      "cell_type": "code",
      "metadata": {
        "id": "H0u2nJQ1df5i"
      },
      "source": [
        "import PyPDF2"
      ],
      "execution_count": null,
      "outputs": []
    },
    {
      "cell_type": "code",
      "metadata": {
        "id": "gwxyKmvRdrxT",
        "outputId": "4b8a7a4e-f3f9-49c2-954e-b12c204c2521",
        "colab": {
          "resources": {
            "http://localhost:8080/nbextensions/google.colab/files.js": {
              "data": "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",
              "ok": true,
              "headers": [
                [
                  "content-type",
                  "application/javascript"
                ]
              ],
              "status": 200,
              "status_text": "OK"
            }
          },
          "base_uri": "https://localhost:8080/",
          "height": 80
        }
      },
      "source": [
        "file=files.upload()"
      ],
      "execution_count": null,
      "outputs": [
        {
          "output_type": "display_data",
          "data": {
            "text/html": [
              "\n",
              "     <input type=\"file\" id=\"files-42a716e1-2b98-48ec-83ae-707a056d51e0\" name=\"files[]\" multiple disabled\n",
              "        style=\"border:none\" />\n",
              "     <output id=\"result-42a716e1-2b98-48ec-83ae-707a056d51e0\">\n",
              "      Upload widget is only available when the cell has been executed in the\n",
              "      current browser session. Please rerun this cell to enable.\n",
              "      </output>\n",
              "      <script src=\"/nbextensions/google.colab/files.js\"></script> "
            ],
            "text/plain": [
              "<IPython.core.display.HTML object>"
            ]
          },
          "metadata": {
            "tags": []
          }
        },
        {
          "output_type": "stream",
          "text": [
            "Saving Untitled.pdf to Untitled.pdf\n"
          ],
          "name": "stdout"
        }
      ]
    },
    {
      "cell_type": "code",
      "metadata": {
        "id": "8JkKBBEddxlL",
        "outputId": "e50a7000-5151-4b54-ee92-81ece15fea5e",
        "colab": {
          "base_uri": "https://localhost:8080/",
          "height": 34
        }
      },
      "source": [
        "ls"
      ],
      "execution_count": null,
      "outputs": [
        {
          "output_type": "stream",
          "text": [
            "\u001b[0m\u001b[01;34msample_data\u001b[0m/  test.txt  Untitled.pdf\n"
          ],
          "name": "stdout"
        }
      ]
    },
    {
      "cell_type": "code",
      "metadata": {
        "id": "dbDTVfCsd5zS"
      },
      "source": [
        "mypdf=open('Untitled.pdf','rb')"
      ],
      "execution_count": null,
      "outputs": []
    },
    {
      "cell_type": "code",
      "metadata": {
        "id": "hs2SgLP1eGPN",
        "outputId": "9a2ca29d-bf70-404c-990f-54b300f8297f",
        "colab": {
          "base_uri": "https://localhost:8080/",
          "height": 34
        }
      },
      "source": [
        "mypdf"
      ],
      "execution_count": null,
      "outputs": [
        {
          "output_type": "execute_result",
          "data": {
            "text/plain": [
              "<_io.BufferedReader name='Untitled.pdf'>"
            ]
          },
          "metadata": {
            "tags": []
          },
          "execution_count": 59
        }
      ]
    },
    {
      "cell_type": "code",
      "metadata": {
        "id": "icG_TQwdeIMT"
      },
      "source": [
        "mypdfobj=PyPDF2.PdfFileReader(mypdf)"
      ],
      "execution_count": null,
      "outputs": []
    },
    {
      "cell_type": "code",
      "metadata": {
        "id": "1Eh0_ZLlekoj",
        "outputId": "f6bfea76-0352-42df-93cd-bd515a366832",
        "colab": {
          "base_uri": "https://localhost:8080/",
          "height": 34
        }
      },
      "source": [
        "mypdfobj"
      ],
      "execution_count": null,
      "outputs": [
        {
          "output_type": "execute_result",
          "data": {
            "text/plain": [
              "<PyPDF2.pdf.PdfFileReader at 0x7f3fb249cc18>"
            ]
          },
          "metadata": {
            "tags": []
          },
          "execution_count": 62
        }
      ]
    },
    {
      "cell_type": "code",
      "metadata": {
        "id": "E3Lhw7P1ew9t",
        "outputId": "395b7ff0-253f-4931-b71b-20aa2ee7cbe7",
        "colab": {
          "base_uri": "https://localhost:8080/",
          "height": 34
        }
      },
      "source": [
        "mypdfobj.numPages"
      ],
      "execution_count": null,
      "outputs": [
        {
          "output_type": "execute_result",
          "data": {
            "text/plain": [
              "1"
            ]
          },
          "metadata": {
            "tags": []
          },
          "execution_count": 64
        }
      ]
    },
    {
      "cell_type": "code",
      "metadata": {
        "id": "fw7xrTohe2Iq"
      },
      "source": [
        "page_one=mypdfobj.getPage(0)"
      ],
      "execution_count": null,
      "outputs": []
    },
    {
      "cell_type": "code",
      "metadata": {
        "id": "Sn0G5_Zie_yx",
        "outputId": "5d1d559a-78f3-413c-a576-8b3b7eee2739",
        "colab": {
          "base_uri": "https://localhost:8080/",
          "height": 816
        }
      },
      "source": [
        "page_one"
      ],
      "execution_count": null,
      "outputs": [
        {
          "output_type": "execute_result",
          "data": {
            "text/plain": [
              "{'/Contents': {'/Filter': '/FlateDecode'},\n",
              " '/Group': {'/CS': '/DeviceRGB',\n",
              "  '/I': <PyPDF2.generic.BooleanObject at 0x7f3fb240c160>,\n",
              "  '/S': '/Transparency'},\n",
              " '/MediaBox': [0, 0, 595.27559, 841.86142],\n",
              " '/Parent': {'/Count': 1,\n",
              "  '/Kids': [IndirectObject(1, 0)],\n",
              "  '/MediaBox': [0, 0, 595, 841],\n",
              "  '/Resources': {'/Font': {'/F1': {'/BaseFont': '/BAAAAA+LiberationSerif',\n",
              "     '/FirstChar': 0,\n",
              "     '/FontDescriptor': {'/Ascent': 891,\n",
              "      '/CapHeight': 981,\n",
              "      '/Descent': -216,\n",
              "      '/Flags': 4,\n",
              "      '/FontBBox': [-543, -303, 1277, 981],\n",
              "      '/FontFile2': {'/Filter': '/FlateDecode', '/Length1': 8184},\n",
              "      '/FontName': '/BAAAAA+LiberationSerif',\n",
              "      '/ItalicAngle': 0,\n",
              "      '/StemV': 80,\n",
              "      '/Type': '/FontDescriptor'},\n",
              "     '/LastChar': 4,\n",
              "     '/Subtype': '/TrueType',\n",
              "     '/ToUnicode': {'/Filter': '/FlateDecode'},\n",
              "     '/Type': '/Font',\n",
              "     '/Widths': [777, 277, 500, 500, 443]}},\n",
              "   '/ProcSet': ['/PDF', '/Text']},\n",
              "  '/Type': '/Pages'},\n",
              " '/Resources': {'/Font': {'/F1': {'/BaseFont': '/BAAAAA+LiberationSerif',\n",
              "    '/FirstChar': 0,\n",
              "    '/FontDescriptor': {'/Ascent': 891,\n",
              "     '/CapHeight': 981,\n",
              "     '/Descent': -216,\n",
              "     '/Flags': 4,\n",
              "     '/FontBBox': [-543, -303, 1277, 981],\n",
              "     '/FontFile2': {'/Filter': '/FlateDecode', '/Length1': 8184},\n",
              "     '/FontName': '/BAAAAA+LiberationSerif',\n",
              "     '/ItalicAngle': 0,\n",
              "     '/StemV': 80,\n",
              "     '/Type': '/FontDescriptor'},\n",
              "    '/LastChar': 4,\n",
              "    '/Subtype': '/TrueType',\n",
              "    '/ToUnicode': {'/Filter': '/FlateDecode'},\n",
              "    '/Type': '/Font',\n",
              "    '/Widths': [777, 277, 500, 500, 443]}},\n",
              "  '/ProcSet': ['/PDF', '/Text']},\n",
              " '/Type': '/Page'}"
            ]
          },
          "metadata": {
            "tags": []
          },
          "execution_count": 66
        }
      ]
    },
    {
      "cell_type": "code",
      "metadata": {
        "id": "ojNJmH0VfBhc",
        "outputId": "34224055-9e2e-4c09-c420-2a1d843f859a",
        "colab": {
          "base_uri": "https://localhost:8080/",
          "height": 54
        }
      },
      "source": [
        "print(page_one)"
      ],
      "execution_count": null,
      "outputs": [
        {
          "output_type": "stream",
          "text": [
            "{'/Type': '/Page', '/Parent': IndirectObject(4, 0), '/Resources': IndirectObject(11, 0), '/MediaBox': [0, 0, 595.27559, 841.86142], '/Group': {'/S': '/Transparency', '/CS': '/DeviceRGB', '/I': <PyPDF2.generic.BooleanObject object at 0x7f3fb240c160>}, '/Contents': IndirectObject(2, 0)}\n"
          ],
          "name": "stdout"
        }
      ]
    },
    {
      "cell_type": "code",
      "metadata": {
        "id": "v5QTZ-MkfI4c"
      },
      "source": [
        "from bs4 import BeautifulSoup"
      ],
      "execution_count": null,
      "outputs": []
    },
    {
      "cell_type": "code",
      "metadata": {
        "id": "5AG36Lc-fpvz"
      },
      "source": [
        "import re"
      ],
      "execution_count": null,
      "outputs": []
    },
    {
      "cell_type": "code",
      "metadata": {
        "id": "qa7U1Ozqf7cr"
      },
      "source": [
        "import requests"
      ],
      "execution_count": null,
      "outputs": []
    },
    {
      "cell_type": "code",
      "metadata": {
        "id": "Csf7eJ5Bf-ea"
      },
      "source": [
        "def url_to_doc(url):\n",
        "  res=requests.get(url)\n",
        "  html=res.text\n",
        "  soup=BeautifulSoup(html,'html5lib')\n",
        "  for script in soup([\"script\",\"style\",'aside']):\n",
        "    script.extract()\n",
        "  return \"\".join(re.split(r'[\\n\\t]+',soup.get_text()))\n"
      ],
      "execution_count": null,
      "outputs": []
    },
    {
      "cell_type": "code",
      "metadata": {
        "id": "S72XdUYWg-JG"
      },
      "source": [
        "article=url_to_doc(\"https://medium.com/@kctheservant/deep-dive-into-fabcar-revised-57cb54642572\")"
      ],
      "execution_count": null,
      "outputs": []
    },
    {
      "cell_type": "code",
      "metadata": {
        "id": "YZlb2RDhhGWD",
        "outputId": "c04ed35f-bc6a-4018-8cb8-c0ef4bccb76c",
        "colab": {
          "base_uri": "https://localhost:8080/",
          "height": 158
        }
      },
      "source": [
        "article"
      ],
      "execution_count": null,
      "outputs": [
        {
          "output_type": "execute_result",
          "data": {
            "application/vnd.google.colaboratory.intrinsic+json": {
              "type": "string"
            },
            "text/plain": [
              "'Deep-Dive into Fabcar (revised). A Complete Application Example on… | by KC Tam | MediumOpen in app Software EngineeringBecome a memberSign inDeep-Dive into Fabcar (revised)KC TamFollowAug 29, 2019 · 23 min readA Complete Application Example on Hyperledger Fabric0. Why RevisedThis article is a rework on one of my previous series about Fabcar, a good example in Hyperledger Fabric showing how application is developed. It is found that since Hyperledger Fabric 1.4.2, the fabric-network used in startFabric.sh is changed from Basic Network to First Network. Certain portions of original articles require updated. Instead of updating the previous articles, here I come up this updated version of the whole four-part article, and I make it into a big one.1. OverviewHyperledger Fabric comes with a lot of application examples, and among them Fabcar is a complete end-to-end application. A complete blockchain application contains two portions of code: the Chaincode which is deployed and executed inside a fabric network, and the Client Application is where the external world interacts with the chaincode deployed on this fabric network.While the official document provides very detail discussion on both parts, this article plans to give some illustration and explanation on this example. We first depict the application itself as a whole picture, and then deep dive into each part of this whole picture, one by one. And from this I hope readers have a better understanding on how a typical business blockchain application is built.This is a quite heavy article with the following sessions.Overview (this one)Overall Picture of FabcarFirst NetworkUnderstanding Fabcar ChaincodeBringing Up the First Network and Fabcar ChaincodeDemonstration of Chaincode Functions using CLIUnderstanding Fabcar Client ApplicationBuilding an API Server to Interact with ChaincodeClean UpThe code used here is on Hyperledger Fabric release 1.4.2.2. Overall Picture of FabcarFabcar is a database of car records stored in the ledger of a fabric network. We can consider this as a traditional database storing the data: it is like a table, indexed with a Car Identifier (CarID), and the information of Maker, Model, Colour and Owner is recorded for this car.The data are stored in the world state database inside the ledger. Interaction with the data is through chaincode. Fabcar comes with a Chaincode, containing the functions which can interact with the stored data in the ledger. They are for database (ledger) initiation, query and update. The world state is queried or updated only through the chaincode functions, and any update is logged in the blockchain inside the ledger as tamper-resistant record.So far things mentioned above happen inside the fabric network. Application is useful only when it is accessible to external world. The external part is Client Application. Client application interacts with the fabric network and the deployed chaincodes through Software Development Kit (SDK). Hyperledger Fabric currently provides Java and Node SDK with official support, while those for other programming frameworks like Go and Python are also available.Client application is coded to match the functions defined in chaincode. Here in the Fabcar come four sets of JavaScript codes that run in Node, for user enrollment and chaincode interaction.As introduced in my previous work (link), the application portion (Client Application and Chaincode) is independent from the infrastructure (Fabric network). Theoretically the application can be deployed in any fabric network deployment, be it of one single organization or a complicated setup with many. We do not code any “infrastructure” information on the Chaincode part. We just specify when we install and instantiate Chaincode about the channel name of the infrastructure. On Client Application side, we also have to specify the Peer, channel ID (name) and chaincode ID (name) in the code in order to speak to the correct deployed chaincode in the fabric network. We will see it when we talk about the Chaincode and Client Application in coming sections.3. First NetworkFabcar chaincode can run on any fabric networks. Here we follow the tutorial in official document, in which Fabcar is running on the First Network.I have other articles describing how First Network looks like. You can make a quick reference here.Understanding First Network Example in Hyperledger Fabric (Part 1)This is a practical guide for Hyperledger Fabric, currently the most popular permissioned blockchain framework in…medium.comIn general, the infrastructure part of First Network comes withTwo organizations, Org1 and Org2, each coming with two peer nodes (peer0 and peer1). Therefore in the First Network we have total four peer nodesOne orderer organization and one orderer node using SOLO as the ordering methodOptionally, each peer node runs a couchdb as a world state database.Optionally, each Org1 and Org2 can come with a Certificate Authority, CA, running fabric-CA software with proper configurationA Command Line Interface (cli) as a client interacting with the fabric networkAll components are deployed as containers, and all are running on a host.This is how a First Network looks like.Bring-up and tear-down of First Network can be done through the well-scripted file first-network/byfn.sh. Before we go into this script and bring up the First Network, let’s take a look on the Fabcar chaincode.4. Understanding Fabcar ChaincodeLet’s take a look the Fabcar chaincode. As a recap, chaincode is executed on endorsing peer nodes inside a fabric network. It is where the business logic resides and will be executed upon invoke. The ledger is updated only when chaincode is invoked.The chaincode is in fabric-samples/chaincode/fabcar/. Fabcar chaincode comes with various coding languages and here we are examining that one written in Go. The chaincode follows a specific pattern required and defined in Hyperledger Fabric. In this article we only focus on portions of our interests, which are the data structure, the Init() and Invoke() functions, plus some functions that will be called by Invoke(). The name of these functions begins with lower case.Data StructureAs said, Fabcar is a “database” in the ledger. Here is how the data is structured.Init()This is a specific function required in Hyperledger Fabric chaincode. The Init() is executed when the chaincode is instantiated in the Fabric network.We can set as many initial states as possible with this Init(). But as good practice, we usually leave this empty, and invoke another function later externally. The function we later invoke in this chaincode is initLedger().Invoke()This is another specific function required in Hyperledger Fabric chaincode. The Invoke() usually defines some further actions (functions) when the chaincode is invoked. It usually follows the pattern like this.From the code we learn that, when chaincode is invoked, an argument list is given. See Line 68. The first argument is always the function (action of this invoke), the args is an optional argument list for that action.There are total five functions defined, namelyqueryCarinitLedgercreateCarqueryAllCarschangeCarOwnerThe name is intuitive enough to tell what action will be performed after calling this functions. We will provide a summary on each of them.initLedger()initLedger() is to preload the 10 sets of car data into the ledger. Here we can see the data is “stringified” before putting into the ledger as value with key CARx (line 113). The API to update the ledger is PutState().This function does not require additional arguments, and should only be executed once. It does not make sense to repeat running it. When we design Client Application we shall not include any action to this function.queryAllCars()queryAllCars() simply iterates the record stored in the ledger and put them into formatted result. No argument is needed for this function. The API for data retrieval from the ledger is GetStateByRange() (line 140).queryCar()queryCar() allows query on individual car based on CarID.One argument is required as expected, the CarID, which is used for data retrieval from ledger using GetState() (line 91). The result is returned.createCar()createCar() is for adding new car record into the ledger.As it is a new record, all information is expected. A list of 5 arguments matches the required field: CarID, Maker, Model, Colour and Owner. The data is stringified and placed into ledger using PutState() (line 130).changeCarOwner()changeCarOwner() can change the owner of a car specified by CarID.Two arguments are expected, the CarID and the Owner. This update is done through PutState() (line 191).This is what the section is about. We omit other structural requirement on Hyperledger Fabric chaincode, but the functions above are good enough for us to move forward to do some chaincode operation demonstration.5. Bringing Up the First Network and Fabcar ChaincodeWe will walk through the fabcar/startFabric.sh, and we see that the First Network is brought up, channel is created and joined by peers, and chaincode is deployed in the following steps.Step 1: Call first-network/byfn.sh to bring up First Network.startFabric.sh calls first-network/byfn.sh to bring up First NetworkHere we see some options are used.-a bring up the Fabric CA for both organizations.-n do not run the example chaincode-s couchdb bring up couchdb for each peer nodeNote that first-network/byfn.sh is well scripted such that these options are well addressed. It will call various predefined docker-compose files accordingly.After successful execution, we will haveall the docker containers required in First Network setup according to the optionsmychannel is up, and all four peer nodes have joint mychannelanchoring peers are updatedStep 2: Install Fabcar chaincode in all Peer NodesFabcar chaincode is installed on the participating peer nodes. In line 56–107 the chaincodes are installed in four peer nodes. Note that the chaincode is installed through cli container with proper environment variables. Here is just the code for peer0.org1.example.com. You can see it’s repeated in other peer nodes.Chaincode installation: only peer0.org1.example.com is shown. Other nodes look similar.Step 3: Instantiate Fabcar chaincode on mychannelAfter installation the Fabcar chaincode is good for instantiation. By instantiation we specify the channel mychannel this chaincode is instantiated, the chaincode, and the endorsing policy when chaincode functions are invoked later. Here the endorsing policy requires a member of both Org1 and Org2.Chaincode instantiation on mychannel with endorsing policyStep 4: Invoke initLedger()As mentioned above we will invoke initLedger() in order to preload 10 car records into our ledger. Note that as we need endorsement from both organizations, initLedger() is invoked with peers from the two organizations specified (Note: Here we see four peer nodes specified. In fact we only need one peer from each organization. We will test this in next session.)Let’s take a look on the status after startFabric.sh is executed.All peer nodes join mychannelFabcar chaincode is installed in all peersFabcar chaincode is instantiated in mychannel6. Demonstration of Chaincode Functions using CLIHere we begin to demonstrate how the chaincode is working, or more specifically, what happens when the chaincode is queried or invoked.The default environment variables on CLI container points to peer0.org1. When we access other peers, we have to provide the relevant variables. See the following steps.All commands are issued from CLI. To show the “consensus” across the peer nodes, for demonstration purpose, we will issue CLI commands to each the peer nodes in a round-robin fashion. It shows that we can query / invoke chaincode to each peer and we will get same result.Here are the step for this demonstrationQuery All Cars in the ledgerQuery the specific car by CarIDAdd a new car with detail providedQuery All Cars in the ledger again and we see a new car is in the ledgerChange the owner of a car to someone elseQuery that car again and see the change is doneStep 1: Query all car records (from peer0.org1)docker exec cli peer chaincode query -C mychannel -n fabcar -c \\'{\"Args\":[\"queryAllCars\"]}\\'Step 2: Query a specific car by CarID (from peer1.org1)docker exec -e CORE_PEER_ADDRESS=peer1.org1.example.com:8051 -e CORE_PEER_TLS_ROOTCERT_FILE=/opt/gopath/src/github.com/hyperledger/fabric/peer/crypto/peerOrganizations/org1.example.com/peers/peer1.org1.example.com/tls/ca.crt cli peer chaincode query -C mychannel -n fabcar -c \\'{\"Args\":[\"queryCar\",\"CAR4\"]}\\'Step 3: Add a new car (from peer0.org2).Don’t be scared with this long command. It containsenvironment variables pointing to peer0.org2as endorsing policy requires two organization, we send this invoke to peer0.org1 and peer0.org2 (see peerAddresses option) plus their TLS certificates (tlsRootCertFiles option).docker exec -it -e CORE_PEER_MSPCONFIGPATH=/opt/gopath/src/github.com/hyperledger/fabric/peer/crypto/peerOrganizations/org2.example.com/users/Admin@org2.example.com/msp -e CORE_PEER_ADDRESS=peer0.org2.example.com:9051 -e CORE_PEER_LOCALMSPID=\"Org2MSP\" -e CORE_PEER_TLS_ROOTCERT_FILE=/opt/gopath/src/github.com/hyperledger/fabric/peer/crypto/peerOrganizations/org2.example.com/peers/peer0.org2.example.com/tls/ca.crt cli peer chaincode invoke -o orderer.example.com:7050 --tls true --cafile /opt/gopath/src/github.com/hyperledger/fabric/peer/crypto/ordererOrganizations/example.com/orderers/orderer.example.com/msp/tlscacerts/tlsca.example.com-cert.pem -C mychannel -n fabcar --peerAddresses peer0.org1.example.com:7051 --tlsRootCertFiles /opt/gopath/src/github.com/hyperledger/fabric/peer/crypto/peerOrganizations/org1.example.com/peers/peer0.org1.example.com/tls/ca.crt --peerAddresses peer0.org2.example.com:9051 --tlsRootCertFiles /opt/gopath/src/github.com/hyperledger/fabric/peer/crypto/peerOrganizations/org2.example.com/peers/peer0.org2.example.com/tls/ca.crt -c \\'{\"Args\":[\"createCar\", \"CAR12\", \"Honda\", \"Accord\", \"black\", \"Tom\"]}\\'Step 4: Query all cars again (from peer1.org2). We see the new car CAR12 added to the ledger.docker exec -e CORE_PEER_MSPCONFIGPATH=/opt/gopath/src/github.com/hyperledger/fabric/peer/crypto/peerOrganizations/org2.example.com/users/Admin@org2.example.com/msp -e CORE_PEER_ADDRESS=peer1.org2.example.com:10051 -e CORE_PEER_LOCALMSPID=\"Org2MSP\" -e CORE_PEER_TLS_ROOTCERT_FILE=/opt/gopath/src/github.com/hyperledger/fabric/peer/crypto/peerOrganizations/org2.example.com/peers/peer0.org2.example.com/tls/ca.crt cli peer chaincode query -C mychannel -n fabcar -c \\'{\"Args\":[\"queryAllCars\"]}\\'Step 5: Change owner of CAR4 (from peer0.org1).Similarly, we will specify peer0.org1 and peer0.org2 per endorsing policy when chaincode invoke.docker exec cli peer chaincode invoke -o orderer.example.com:7050 --tls true --cafile /opt/gopath/src/github.com/hyperledger/fabric/peer/crypto/ordererOrganizations/example.com/orderers/orderer.example.com/msp/tlscacerts/tlsca.example.com-cert.pem -C mychannel -n fabcar --peerAddresses peer0.org1.example.com:7051 --tlsRootCertFiles /opt/gopath/src/github.com/hyperledger/fabric/peer/crypto/peerOrganizations/org1.example.com/peers/peer0.org1.example.com/tls/ca.crt --peerAddresses peer0.org2.example.com:9051 --tlsRootCertFiles /opt/gopath/src/github.com/hyperledger/fabric/peer/crypto/peerOrganizations/org2.example.com/peers/peer0.org2.example.com/tls/ca.crt -c \\'{\"Args\":[\"changeCarOwner\", \"CAR4\", \"KC\"]}\\'Step 6: Query CAR4 again (from peer1.org1)docker exec -e CORE_PEER_ADDRESS=peer1.org1.example.com:8051 -e CORE_PEER_TLS_ROOTCERT_FILE=/opt/gopath/src/github.com/hyperledger/fabric/peer/crypto/peerOrganizations/org1.example.com/peers/peer1.org1.example.com/tls/ca.crt cli peer chaincode query -C mychannel -n fabcar -c \\'{\"Args\":[\"queryCar\",\"CAR4\"]}\\'This ends the demonstration. We have shown how to interact with an instantiated chaincode using CLI. And we also issue invoke / query command in different peer nodes and see the ledger is consistent across the fabric network. In real life we will use Client Application instead of CLI. In the next section we will examine the Fabcar Client Application.7. Understanding Fabcar Client ApplicationClient Application in GeneralIn Hyperledger Fabric, Client Application is the point external world interacting with the fabric network and the deployed chaincode. This interaction is done through SDK. Hyperledger Fabric offers SDK for various programming languages. Java and Node SDK are officially released.As Hyperledger Fabric is a permissioned blockchain platform, every participant must be permissioned (authorized) before one can interact with the fabric network. Of no exception, Client Application also needs to get this permission. It is done by obtaining the appropriate certificates issued by a Certificate Authority acceptable by the fabric network.Inside the Client Application is the logic how a user is interacting with the fabric network and the chaincode. Per Hyperledger Fabric design, Client Application will interact with the Peer and the Orderer, for endorsement and for block generation respectively. The access point of Peer and Orderer needs to be specified in Client Application. Also, the channel name (Id) and chaincode name (Id) are specified when the proposal is reaching the fabric network. Remember a fabric network can support multiple channels and multiple chaincodes.Finally, when Client Application performs query or invoke on the chaincode, make sure to supply the right function name and argument list if any. The whole application works only when these two parts, Client Application and Chaincode, work hand-in-hand.With this, we are going to examine this in Fabcar Client Application.Fabcar in JavaScript: using Node SDKAs Fabcar Client Application comes with JavaScript and TypeScript. Both are using Node SDK. Here we examine the one in JavaScript.There are three NPM packages in Node SDK. You can find them here (https://github.com/hyperledger/fabric-sdk-node).fabric-ca-client is for Fabric CA. Fabric CA is an optional item as some may use their own CA instead. If Fabric CA is used, this package performs the enrollment on Fabric CA.fabric-network provides a higher level of abstraction for submission of query and transactions to the network.When we examine the code we will see how to use these two packages.Fabcar Client ApplicationFabcar Client Application is inside fabric-samples/fabcar/ directory. The latest release 1.4 the Fabcar codes are reworked in JavaScript. We see three folders: javascript/, typescript/ and javascript-low-level/. The demonstration here is using javascript/. If you are interested in pre 1.4 code, you can use javascript-low-level/. If you compare them you can see the large improvement on JavaScript coding.Inside the fabric-samples/fabcar/javascript/ directory there are four JavaScript codes. All of them obtain the connection information from first-network/connection-org1.json. Therefore all invoke / query are done on the nodes on org1. This is a bit different from how we run similar set using CLI. Nevertheless, if we change it to org2, we will get the same result.We broadly divide them into two categories.User Enrollment into Fabric NetworkThe two codes enrollAdmin.js and registerUser.js are responsible for admin and user enrollment on the Fabric network before we can interact the chaincode. The result is key pair and certificates for admin and for user. In 1.4 they are stored in wallet/ directory locally.enrollAdmin.jsWe first use enrollAdmin.js to generate the certificate for an administrator.Here is the logicLoad the required modules from fabric-ca-client and fabric-network.Retrieve the detail about the First Network deployment. It contains the information of the access point of Fabric CA.Check whether “admin” is already inside the wallet/ directory. If so, no further action is needed.Enroll the admin user to the Fabric CA with enrollment ID and Secret (aligned with what is defined in Fabric CA, see ca0 service in the docker-compose file first-network/docker-composer-ca.yaml).The result of enrollment is key pair and certificate. The result is then stored in wallet/admin/.registerUser.jsThen we use registerUser.js to register and enroll user1. It is the admin we created above to perform this registration. This user can later perform query and invoke.Here is the logicLoad the required modules from fabric-network.Retrieve the detail about the First Network deployment.Check whether user1 is already enrolled. If so no further action is needed.Check whether admin exists in the wallet. If admin is not yet enrolled, prompt for enrollAdmin.js and no further action is needed.Create a new gateway connecting to peer, with connection detail from First Network deployment.Register the user1 with admin created in previous part. The result is a secret.Now we can enroll the user1 with the secret.The result of enrollment is key pair and certificate for user1. The result is then stored in wallet/user1/.Chaincode invokingThe fabric-samples come with two JavaScript file: query.js and invoke.js. From the name we know that they are for the two category of chaincode invoke.query.jsThere are two function defined in the chaincode using query: queryAllCars() and queryCar(). The code query.js is for these two chaincode functions.Since query does not involve modifying the ledger content, the request can be fulfilled in the Peer by retrieving the data requested in the local world state database.The logic of query.js is like this.Load the required modules from fabric-network.Retrieve the detail about the First Network deployment.Check whether user1 is already enrolled (in wallet). If not, prompt for registerUser.js and no further action is needed.Create a new gateway connecting to peer, with connection detail from First Network deployment.Use the gateway to retrieve the channel (network) mychannel and chaincode (contract) fabcar.Use contract API evaluateTransaction() with the arguments required for query.The result is shown in string.Here is where to specify the required chaincode function and arguments.invoke.jsThere are two function defined in the chaincode using query: createCar() and changeCarOwner(). The code invoke.js is for these two chaincode functions.The logic of invoke.js is like this.Load the required modules from fabric-network.Retrieve the detail about the First Network deployment.Check whether user1 is already enrolled (in wallet). If not, prompt for registerUser.js and no further action is needed.Create a new gateway connecting to peer, with connection detail from First Network deployment.Use the gateway to retrieve the channel (network) mychannel and chaincode (contract) fabcar.Use contract API submitTransaction() with the arguments required for invoke.Disconnect the gateway once transaction is processed.Here is where to specify the required chaincode function and arguments.Demo of Client Application to the Deployed ChaincodeFinally, we will use the Client Application to interact with the chaincode.For simplicity, we just perform one query and one invoke. The step is like thisUse enrollAdmin.js and registerUser.js to get certificate for user1Use query.js to inspect CAR5Use invoke.js to change car owner of CAR5Use query.js again to inspect CAR5, and see if the owner is correctly changedWe can run this on top of previous session, as we have not acted on CAR5 yet.First, we need the proper modules, including the SDK. They are already configured in package.json. What we need is to use npm install.cd fabric-samples/fabcar/javascriptnpm installNow we see all required modules under node_modules/.Now we enroll an Administrator on Fabric CA.Then, we use Administrator to register the User1 and enroll User1.We only need to run these two codes once. With the user1 and the key pair, we can run the client applications. User1 can be used any time when needed.Now we can modify the two files to reflect the function.For query.js we modify the arguments in evaluateTransaction()modify query.js such that it is to query CAR5Now we can execute the Client Application query.js.Show the record of CAR5.We now modify the arguments in submitTransaction() in the invoke.js such that we change the owner of CAR5 to another owner.modify invoke.js such that it is to change car owner for CAR5We execute the Client Application invoke.js, and then use query.js to check the new owner.The car owner of CAR5 is changed.Now we see the owner is changed to what we specify in the invoke.js.8. Building an API Server to Interact with ChaincodeSo far we have followed what comes with the fabric-samples: the Chaincode and the Client Application of Fabcar. In real life, the Client Application should be more comprehensive. For example, instead of “hardcode” the function and arguments, it is better if we can specify it during executing the Client Application. For example, as an argument list when issuing node commands.A more common way is to build an API for those functions. API serves as a standard way when accessing services (that is, functions defined in the chaincode invoke), and ready to be integrated into other applications.ExpressJS provides an easy way of API implementation. In this section we will first do a quick check on ExpressJS, and based on the setup we will design the API format. The purpose is to build the following API.GET /api/queryallcarsGET /api/query/CarIDPOST /api/addcar/ with detail in bodyPUT /api/changeowner/CarID with new owner in bodyNote this is just for demonstration, and the code is not optimized. We simply leverage what we have in Fabcar and creating the ExpressJS to performI omit the API example from my original article. Readers can either access the original articles or search samples of ExpressJS in the net.Prepare the API ProjectTo make things clean, we replicate the javascript/ directory and make one apiserver/. Note that the previous modules installed in javascript/ are also copied to apiserver/. We do not need to install them again.cd fabric-samples/fabcar/cp -r javascript/ apiserver/In apiserver, we need to install two packages for the ExpressJS.cd apiservernpm install express body-parser --saveNow we will work on a file apiserver.js, which will be the code for the API server.API Server for Client ApplicationWe build this apiserver.js based on the ExpressJS example in previous section, integrated with the query.js and invoke.js. We use the structure of task list for the four API, and in each of them we include the required code from either query.js and invoke.js.Here is the structure of code. The highlighted portion is where code to be inserted.var express = require(\\'express\\');var bodyParser = require(\\'body-parser\\');var app = express();app.use(bodyParser.json());// Setting for Hyperledger Fabricconst { FileSystemWallet, Gateway } = require(\\'fabric-network\\');const path = require(\\'path\\');const ccpPath = path.resolve(__dirname, \\'..\\', \\'..\\', \\'first-network\\', \\'connection-org1.json\\');app.get(\\'/api/queryallcars\\', async function (req, res) { // to be filled in});app.get(\\'/api/query/:car_index\\', async function (req, res) { // to be filled in});app.post(\\'/api/addcar/\\', async function (req, res) { // to be filled in})app.put(\\'/api/changeowner/:car_index\\', async function (req, res) { // to be filled in})app.listen(8080);We first make reference to both query.js and invoke.js to include the “Setting for Hyperledger Fabric” portion, in which we define the required source of the deployed network.Then we define the four API we plan to implement (two gets, one post and one put). We need async for the callback function to align the main() in query.js and invoke.js.We can copy directly from query.js and invoke.js on the “to be filled in” portion, individually.GET /api/queryallcarsapp.get(\\'/api/queryallcars\\', async function (req, res) {    try {// Create a new file system based wallet for managing identities.        const walletPath = path.join(process.cwd(), \\'wallet\\');        const wallet = new FileSystemWallet(walletPath);        console.log(`Wallet path: ${walletPath}`);// Check to see if we\\'ve already enrolled the user.        const userExists = await wallet.exists(\\'user1\\');        if (!userExists) {            console.log(\\'An identity for the user \"user1\" does not exist in the wallet\\');            console.log(\\'Run the registerUser.js application before retrying\\');            return;        }// Create a new gateway for connecting to our peer node.        const gateway = new Gateway();        await gateway.connect(ccpPath, { wallet, identity: \\'user1\\', discovery: { enabled: true, asLocalhost: true } });// Get the network (channel) our contract is deployed to.        const network = await gateway.getNetwork(\\'mychannel\\');// Get the contract from the network.        const contract = network.getContract(\\'fabcar\\');// Evaluate the specified transaction.        // queryCar transaction - requires 1 argument, ex: (\\'queryCar\\', \\'CAR4\\')        // queryAllCars transaction - requires no arguments, ex: (\\'queryAllCars\\')        const result = await contract.evaluateTransaction(\\'queryAllCars\\');        console.log(`Transaction has been evaluated, result is: ${result.toString()}`);        res.status(200).json({response: result.toString()});} catch (error) {        console.error(`Failed to evaluate transaction: ${error}`);        res.status(500).json({error: error});        process.exit(1);    }});GET /api/query/CARIDapp.get(\\'/api/query/:car_index\\', async function (req, res) {    try {// Create a new file system based wallet for managing identities.        const walletPath = path.join(process.cwd(), \\'wallet\\');        const wallet = new FileSystemWallet(walletPath);        console.log(`Wallet path: ${walletPath}`);// Check to see if we\\'ve already enrolled the user.        const userExists = await wallet.exists(\\'user1\\');        if (!userExists) {            console.log(\\'An identity for the user \"user1\" does not exist in the wallet\\');            console.log(\\'Run the registerUser.js application before retrying\\');            return;        }// Create a new gateway for connecting to our peer node.        const gateway = new Gateway();        await gateway.connect(ccpPath, { wallet, identity: \\'user1\\', discovery: { enabled: true, asLocalhost: true } });// Get the network (channel) our contract is deployed to.        const network = await gateway.getNetwork(\\'mychannel\\');// Get the contract from the network.        const contract = network.getContract(\\'fabcar\\');// Evaluate the specified transaction.        // queryCar transaction - requires 1 argument, ex: (\\'queryCar\\', \\'CAR4\\')        // queryAllCars transaction - requires no arguments, ex: (\\'queryAllCars\\')        const result = await contract.evaluateTransaction(\\'queryCar\\', req.params.car_index);        console.log(`Transaction has been evaluated, result is: ${result.toString()}`);        res.status(200).json({response: result.toString()});} catch (error) {        console.error(`Failed to evaluate transaction: ${error}`);        res.status(500).json({error: error});        process.exit(1);    }});POST /api/addcar/app.post(\\'/api/addcar/\\', async function (req, res) {    try {// Create a new file system based wallet for managing identities.        const walletPath = path.join(process.cwd(), \\'wallet\\');        const wallet = new FileSystemWallet(walletPath);        console.log(`Wallet path: ${walletPath}`);// Check to see if we\\'ve already enrolled the user.        const userExists = await wallet.exists(\\'user1\\');        if (!userExists) {            console.log(\\'An identity for the user \"user1\" does not exist in the wallet\\');            console.log(\\'Run the registerUser.js application before retrying\\');            return;        }// Create a new gateway for connecting to our peer node.        const gateway = new Gateway();        await gateway.connect(ccpPath, { wallet, identity: \\'user1\\', discovery: { enabled: true, asLocalhost: true } });// Get the network (channel) our contract is deployed to.        const network = await gateway.getNetwork(\\'mychannel\\');// Get the contract from the network.        const contract = network.getContract(\\'fabcar\\');// Submit the specified transaction.        // createCar transaction - requires 5 argument, ex: (\\'createCar\\', \\'CAR12\\', \\'Honda\\', \\'Accord\\', \\'Black\\', \\'Tom\\')        // changeCarOwner transaction - requires 2 args , ex: (\\'changeCarOwner\\', \\'CAR10\\', \\'Dave\\')        await contract.submitTransaction(\\'createCar\\', req.body.carid, req.body.make, req.body.model, req.body.colour, req.body.owner);        console.log(\\'Transaction has been submitted\\');        res.send(\\'Transaction has been submitted\\');// Disconnect from the gateway.        await gateway.disconnect();} catch (error) {        console.error(`Failed to submit transaction: ${error}`);        process.exit(1);    }})PUT /api/changeowner/CARIDapp.put(\\'/api/changeowner/:car_index\\', async function (req, res) {    try {// Create a new file system based wallet for managing identities.        const walletPath = path.join(process.cwd(), \\'wallet\\');        const wallet = new FileSystemWallet(walletPath);        console.log(`Wallet path: ${walletPath}`);// Check to see if we\\'ve already enrolled the user.        const userExists = await wallet.exists(\\'user1\\');        if (!userExists) {            console.log(\\'An identity for the user \"user1\" does not exist in the wallet\\');            console.log(\\'Run the registerUser.js application before retrying\\');            return;        }// Create a new gateway for connecting to our peer node.        const gateway = new Gateway();        await gateway.connect(ccpPath, { wallet, identity: \\'user1\\', discovery: { enabled: true, asLocalhost: true } });// Get the network (channel) our contract is deployed to.        const network = await gateway.getNetwork(\\'mychannel\\');// Get the contract from the network.        const contract = network.getContract(\\'fabcar\\');// Submit the specified transaction.        // createCar transaction - requires 5 argument, ex: (\\'createCar\\', \\'CAR12\\', \\'Honda\\', \\'Accord\\', \\'Black\\', \\'Tom\\')        // changeCarOwner transaction - requires 2 args , ex: (\\'changeCarOwner\\', \\'CAR10\\', \\'Dave\\')        await contract.submitTransaction(\\'changeCarOwner\\', req.params.car_index, req.body.owner);        console.log(\\'Transaction has been submitted\\');        res.send(\\'Transaction has been submitted\\');// Disconnect from the gateway.        await gateway.disconnect();} catch (error) {        console.error(`Failed to submit transaction: ${error}`);        process.exit(1);    } })Demonstrate the API UseFinally we will use curl to demonstrate how to use the API. We follow the same section 6.Let clean up the fabric network and rebuild a new environment. See the last section about the clean up procedure.cd /fabric-samples/first-network./byfn.sh downdocker rm $(docker ps -aq)docker rmi $(docker images dev-* -q)Then we bring up the First Network for Fabcar again.cd /fabric-samples/fabcar./startFabric.shAfter the network is up and running, we will remove the wallet and get back the user1 certificate through registerUser.js. After that we can run our apiserver.cd /fabric-samples/fabcar/apiserverrm -rf walletnode enrollAdmin.jsnode registerUser.jsnode apiserver.jsKeep an eye on this as we will see the result logged in console, per defined in the original query.js and invoke.js. In production we can remove them.Since my server opens 8080 for external access, I am accessing the API server from my localhost using the public IP (18.234.121.178) of API server. Use localhost if you are using same host, or your own public IP address.Step 1: Query all car recordscurl http://18.234.121.178:8080/api/queryallcarsStep 2: Query a specific car by CarIDcurl http://18.234.121.178:8080/api/query/CAR4Step 3: Add a new carcurl -d \\'{\"carid\":\"CAR12\",\"make\":\"Honda\",\"model\":\"Accord\",\"colour\":\"black\",\"owner\":\"Tom\"}\\' -H \"Content-Type: application/json\" -X POST http://18.234.121.178:8080/api/addcarStep 4: Query all cars againcurl http://18.234.121.178:8080/api/queryallcarsStep 5: Change owner of CAR4curl -d \\'{\"owner\":\"KC\"}\\' -H \"Content-Type: application/json\" -X PUT http://18.234.121.178:8080/api/changeowner/CAR4Step 6: Query CAR4 againcurl http://18.234.121.178:8080/api/query/CAR4This ends the demonstration. The same result is well expected as what we change is just the Client Application, not the Chaincode itself.As said, this demonstration is just showing how to incorporate the existing JavaScript code into an API server environment. For sure the code above is far from optimization, but it should be good enough to show how things work.9. Clean UpWe bring up the fabric network using fabcar/startFabric.sh. We do not see a “stop” or “teardown” script. You can clean up everything with the following commands.cd /fabric-samples/first-network./byfn.sh downdocker rm $(docker ps -aq)docker rmi $(docker images dev-* -q)Note that we need the final two commands as ./byfn.sh down cannot clean up the chaincode containers. Using these two docker commands will complete remove the stopped containers and unused images.Hope this big article helps understand more how a blockchain application is built and running in a fabric network.162 1 Hyperledger FabricBlockchain ApplicationEnterprise BlockchainRest Api162\\xa0claps162\\xa0claps1 responseWritten byKC TamFollowHappy to share what I learn on blockchain. Visit http://www.ledgertech.biz/kcarticles.html for my works. or reach me on https://www.linkedin.com/in/ktam1/.FollowWritten byKC TamFollowHappy to share what I learn on blockchain. Visit http://www.ledgertech.biz/kcarticles.html for my works. or reach me on https://www.linkedin.com/in/ktam1/.More From MediumBuilding a Healthy Software Engineering CultureKarl Wiegers in The StartupDéjà brew or How I learned to stop worrying and love HomebrewMatthew Wasserman in The StartupAngular + Spring Boot + Kafka: How to stream realtime data the reactive way.David Maier in The StartupREST API Error Handling in Go: Behavioral Type AssertionZeynel ÖzdemirYes, You Can Write Linux Code on WindowsMark Buckaway in The StartupLazy loading Angular ModulesDamilare MalomoThe — I don’t want to spend hours reading articles and watching videos — guide to learning GitHossein JalaliHow Can Businesses Use AutoMLO\\'Reilly Media in oreillymediaDiscover MediumWelcome to a place where words matter. On Medium, smart voices and                        original ideas take center stage - with no ads in sight. WatchMake Medium yoursFollow all the topics you care about, and we’ll deliver the best stories for you to your homepage and inbox. ExploreBecome a memberGet unlimited access to the best stories on Medium — and support writers while you’re at it. Just $5/month. UpgradeAboutHelpLegalGet the Medium app'"
            ]
          },
          "metadata": {
            "tags": []
          },
          "execution_count": 73
        }
      ]
    },
    {
      "cell_type": "code",
      "metadata": {
        "id": "DfkrQPuwhJAD"
      },
      "source": [
        ""
      ],
      "execution_count": null,
      "outputs": []
    }
  ]
}